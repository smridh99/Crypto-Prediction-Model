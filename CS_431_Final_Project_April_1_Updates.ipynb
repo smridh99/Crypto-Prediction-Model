{
  "cells": [
    {
      "cell_type": "markdown",
      "metadata": {
        "id": "trEiY87R0pvj"
      },
      "source": [
        "# **CRPYTO PRICE PREDICTION MODEL**\n",
        "## **Created by Smridh Singh**\n",
       
        "We would be training our model. We could use SparkML or do it ourselves or both. I personally think it would be cool to do both and then compare. Doing it ourselves would entail performing stochastic gradient descent to find the optimal weights."
      ]
    },
    {
      "cell_type": "markdown",
      "metadata": {
        "id": "YHdOKVLf0u2q"
      },
      "source": [
        "## **Initialization**\n",
        "\n",
        "First we initialize Spark. This is just using code from class."
      ]
    },
    {
      "cell_type": "code",
      "execution_count": 1,
      "metadata": {
        "id": "9wTLNlnK1I9e"
      },
      "outputs": [],
      "source": [
        "!apt-get update -qq > /dev/null\n",
        "!apt-get install openjdk-8-jdk-headless -qq > /dev/null\n",
        "!wget -q https://downloads.apache.org/spark/spark-2.4.8/spark-2.4.8-bin-hadoop2.7.tgz\n",
        "!tar xf spark-2.4.8-bin-hadoop2.7.tgz\n",
        "!pip install -q findspark\n",
        "\n",
        "import matplotlib.pyplot as plt\n",
        "import pandas as pd\n",
        "import os\n",
        "os.environ[\"JAVA_HOME\"] = \"/usr/lib/jvm/java-8-openjdk-amd64\"\n",
        "os.environ[\"SPARK_HOME\"] = \"/content/spark-2.4.8-bin-hadoop2.7\"\n",
        "\n",
        "import findspark\n",
        "findspark.init()\n",
        "\n",
        "from pyspark.sql import SparkSession\n",
        "import random\n",
        "\n",
        "spark = SparkSession.builder.appName(\"YourTest\").master(\"local[2]\").config(\"spark.driver.memory\", \"15g\").getOrCreate()"
      ]
    },
    {
      "cell_type": "markdown",
      "metadata": {
        "id": "MafbC5mw1r4_"
      },
      "source": [
        "Next, we use the Kaggle API to fetch the dataset. Steps to do this:\n",
        "\n",
        "1. Go to your Kaggle account and download your API token. It will be a JSON file.\n",
        "\n",
        "2. Run the code below. It will allow you to choose a file to upload - upload your API token that you just downloaded\n",
        "\n",
        "3. All the CSV files will then be downloaded."
      ]
    },
    {
      "cell_type": "code",
      "execution_count": 2,
      "metadata": {
        "collapsed": true,
        "id": "t4nckkb_2Hsa",
        "colab": {
          "base_uri": "https://localhost:8080/"
        },
        "outputId": "242847d3-3ec3-430d-aa13-73b076f1b75a"
      },
      "outputs": [
        {
          "output_type": "stream",
          "name": "stdout",
          "text": [
            "Requirement already satisfied: kaggle in /usr/local/lib/python3.7/dist-packages (1.5.12)\n",
            "Requirement already satisfied: urllib3 in /usr/local/lib/python3.7/dist-packages (from kaggle) (1.24.3)\n",
            "Requirement already satisfied: certifi in /usr/local/lib/python3.7/dist-packages (from kaggle) (2021.10.8)\n",
            "Requirement already satisfied: requests in /usr/local/lib/python3.7/dist-packages (from kaggle) (2.23.0)\n",
            "Requirement already satisfied: six>=1.10 in /usr/local/lib/python3.7/dist-packages (from kaggle) (1.15.0)\n",
            "Requirement already satisfied: python-slugify in /usr/local/lib/python3.7/dist-packages (from kaggle) (6.1.1)\n",
            "Requirement already satisfied: tqdm in /usr/local/lib/python3.7/dist-packages (from kaggle) (4.63.0)\n",
            "Requirement already satisfied: python-dateutil in /usr/local/lib/python3.7/dist-packages (from kaggle) (2.8.2)\n",
            "Requirement already satisfied: text-unidecode>=1.3 in /usr/local/lib/python3.7/dist-packages (from python-slugify->kaggle) (1.3)\n",
            "Requirement already satisfied: chardet<4,>=3.0.2 in /usr/local/lib/python3.7/dist-packages (from requests->kaggle) (3.0.4)\n",
            "Requirement already satisfied: idna<3,>=2.5 in /usr/local/lib/python3.7/dist-packages (from requests->kaggle) (2.10)\n",
            "Archive:  cryptocurrency-historical-1minprices.zip\n",
            "replace ada.csv? [y]es, [n]o, [A]ll, [N]one, [r]ename: N\n"
          ]
        }
      ],
      "source": [
        "!pip install kaggle\n",
        "from google.colab import files\n",
        "import os\n",
        "\n",
        "if not os.path.exists(\"kaggle.json\"):\n",
        "  files.upload()\n",
        "  os.system(\"mkdir ~/.kaggle\")\n",
        "  os.system(\"cp kaggle.json ~/.kaggle/\")\n",
        "  os.system(\"chmod 600 ~/.kaggle/kaggle.json\")\n",
        "  os.system(\"kaggle datasets download -d leopeng2019/cryptocurrency-historical-1minprices\")\n",
        "\n",
        "!unzip 'cryptocurrency-historical-1minprices.zip'\n"
      ]
    },
    {
      "cell_type": "markdown",
      "metadata": {
        "id": "aJeUN_FEAEND"
      },
      "source": [
        "Now read the CSV files into a Spark dataframe"
      ]
    },
    {
      "cell_type": "code",
      "execution_count": 3,
      "metadata": {
        "id": "vfeWyUk9BVDj"
      },
      "outputs": [],
      "source": [
        "from pyspark.sql.functions import lit\n",
        "\n",
        "#get a list of all the spark dataframes\n",
        "RDDByCoin = []\n",
        "coins = [\"ada\",\"bch\",\"bsv\",\"btc\",\"btt\",\"doge\",\"dot\",\"eos\",\"etc\",\"eth\",\"fil\",\n",
        "            \"ht\",\"link\",\"ltc\",\"neo\",\"qtum\",\"sun\",\"sushi\",\"trx\",\"tt\",\"uni\",\"xrp\",\"yfi\"]\n",
        "for coin in coins:\n",
        "  newCoinRDD = spark.read.csv(coin + \".csv\",header = True).withColumn(\"coin_name\", lit(coin))\n",
        "  RDDByCoin.append(newCoinRDD)\n",
        "\n",
        "#merge into one dataframe\n",
        "totalCoinFrame = RDDByCoin[0]\n",
        "\n",
        "for i in range(1,len(RDDByCoin)):\n",
        "  totalCoinFrame = totalCoinFrame.union(RDDByCoin[i])\n",
        "\n"
      ]
    },
    {
      "cell_type": "markdown",
      "metadata": {
        "id": "IXZR1TyMxHHE"
      },
      "source": [
        "Next, we update the datatypes of the columns and remove an annoying space from the column names"
      ]
    },
    {
      "cell_type": "code",
      "execution_count": 4,
      "metadata": {
        "id": "_ee9Qgzg6TvN"
      },
      "outputs": [],
      "source": [
        "# Rename all column names with leading/trailing spaces\n",
        "def rename_columns(df):\n",
        "    old_cols = df.columns\n",
        "    new_cols = list(map(lambda s: s.strip(), old_cols))\n",
        "    for i in range(len(old_cols)):\n",
        "      if old_cols[i] != new_cols[i]:\n",
        "        df = df.withColumnRenamed(old_cols[i], new_cols[i])\n",
        "    return df \n"
      ]
    },
    {
      "cell_type": "code",
      "execution_count": 5,
      "metadata": {
        "id": "AJbMbQHbqAFn"
      },
      "outputs": [],
      "source": [
        "# Convert dtypes of columns in df according to specifications in cols\n",
        "#   cols is a dictionary of {col name: dtype}\n",
        "from pyspark.sql.functions import col\n",
        "from pyspark.sql.types import IntegerType,FloatType,TimestampType, StringType\n",
        "\n",
        "def convert_col_dtypes(df, cols: dict):\n",
        "    for c in cols:\n",
        "        df = df.withColumn(c, col(c).cast(cols[c]))\n",
        "    return df\n",
        "\n",
        "# Columns and their intended types\n",
        "cols = {'time': TimestampType(),\n",
        "        'id': IntegerType(),\n",
        "        'amount': FloatType(),\n",
        "        'open': FloatType(),\n",
        "        'high': FloatType(),\n",
        "        'low': FloatType(),\n",
        "        'close': FloatType(),\n",
        "        'count': FloatType(),\n",
        "        'vol': FloatType()}\n"
      ]
    },
    {
      "cell_type": "code",
      "execution_count": 6,
      "metadata": {
        "id": "E5WekxEzr0R0"
      },
      "outputs": [],
      "source": [
        "# Read the csvs for tokens of interest (btc,eth,doge)\n",
        "bitcoin = spark.read.csv('btc.csv', header = True).withColumn(\"coin_name\", lit('btc'))\n",
        "ethereum = spark.read.csv('eth.csv', header = True).withColumn(\"coin_name\", lit('eth'))\n",
        "doge = spark.read.csv('doge.csv', header = True).withColumn(\"coin_name\", lit('doge'))\n",
        "\n",
        "# Strip leading and trailing spaces from column names\n",
        "totalCoinFrame = rename_columns(totalCoinFrame)\n",
        "bitcoin = rename_columns(bitcoin)\n",
        "ethereum = rename_columns(ethereum)\n",
        "doge = rename_columns(doge)\n",
        "totalCoinFrame = rename_columns(totalCoinFrame)\n",
        "\n",
        "# Convert column datatypes from strings to timestamp and floats (where applicable)\n",
        "totalCoinFrame = convert_col_dtypes(totalCoinFrame, cols)\n",
        "bitcoin = convert_col_dtypes(bitcoin, cols)\n",
        "ethereum = convert_col_dtypes(ethereum, cols)\n",
        "doge = convert_col_dtypes(doge, cols)\n",
        "\n",
        "# Create View to be used with SQL queries\n",
        "bitcoin.createOrReplaceTempView('bitcoin')\n",
        "ethereum.createOrReplaceTempView('etheruem')\n",
        "doge.createOrReplaceGlobalTempView('doge')\n",
        "totalCoinFrame.createOrReplaceTempView('crypto')\n",
        "\n"
      ]
    },
    {
      "cell_type": "markdown",
      "metadata": {
        "id": "l-BnMcYBaGE1"
      },
      "source": [
        "## **Exploratory Analysis**\n",
        "\n",
        "We'll do some exploratory analysis on individual tokens. To prevent copy and pasting code, let's make some general functions!\n"
      ]
    },
    {
      "cell_type": "markdown",
      "metadata": {
        "id": "BZOYp-qzpHeb"
      },
      "source": [
        "### Functions to partition data based on time intervals\n",
        "- Get (previous/next) (minute,day,week,month,year)\n",
        "- Get number of transactions between two times\n",
        "- Get day of the week of a given string\n"
      ]
    },
    {
      "cell_type": "code",
      "execution_count": 7,
      "metadata": {
        "id": "PED3lV-xaFxz"
      },
      "outputs": [],
      "source": [
        "import datetime\n",
        "from dateutil.relativedelta import relativedelta\n",
        "\n",
        "# Get the number of transactions between two timestamps\n",
        "#   df_name (str): Name of a DataFrame\n",
        "#   start_time (str): timstamp in the form \"yyyy-MM-dd HH:mm:00\"\n",
        "#   end_time (str): timstamp in the form \"yyyy-MM-dd HH:mm:00\"\n",
        "def get_total_transactions(df_name, start_time, end_time):\n",
        "    res = spark.sql('select * ' +\\\n",
        "        f'from {df_name} ' +\\\n",
        "        f'where \"{start_time}\" <= time ' +\\\n",
        "        f'and time <= \"{end_time}\"')\n",
        "    return res\n",
        "\n",
        "# Get data of the previous \"interval\" relative to \"time\" \n",
        "# Resulting DataFrame includes \"time\"\n",
        "#   df_name (str): Name of a DataFrame\n",
        "#   time (str): timstamp in the form \"yyyy-MM-dd HH:mm:00\"\n",
        "#   interval (str/int): One of [\"minute\", \"hour\", \"day\", \"week\", \"month\", \"year\"]\n",
        "#                 or a positive integer. If it is an integer, it is interpreted in minutes\n",
        "def get_past(df_name, time, interval):\n",
        "    # Convert time to a datetime\n",
        "    str_time = time\n",
        "    try:\n",
        "        time = datetime.datetime.strptime(time, '%Y-%m-%d %H:%M:%S')\n",
        "    except:\n",
        "        print('Check time format')\n",
        "        return None\n",
        "    if interval == 'minute':\n",
        "        past = time - datetime.timedelta(minutes = 1)\n",
        "    elif interval == 'hour':\n",
        "        past = time - datetime.timedelta(hours = 1)\n",
        "    elif interval == 'day':\n",
        "        past = time - datetime.timedelta(days = 1)\n",
        "    elif interval == 'week':\n",
        "        past = time - relativedelta(weeks = 1)\n",
        "    elif interval == 'month':\n",
        "        past = time - relativedelta(months = 1)\n",
        "    elif interval == 'year':\n",
        "        past = time - relativedelta(years = 1)\n",
        "    elif isinstance(interval, int):\n",
        "        past = time - datetime.timedelta(minutes = int) \n",
        "    else:\n",
        "      print('Interval must be one of: [\"minute\", \"hour\", \"day\", \"week\", \"month\", \"year\"]')\n",
        "      return None\n",
        "    str_past = str(past)\n",
        "    res = spark.sql('select * ' +\\\n",
        "                    f'from {df_name} ' +\\\n",
        "                    f'where \"{str_past}\" = time')\n",
        "    return res\n",
        "\n",
        "# Get data of the next \"interval\" relative to \"time\" \n",
        "# Resulting DataFrame includes \"time\"\n",
        "#   df_name (str): Name of a DataFrame\n",
        "#   time (str): timstamp in the form \"yyyy-MM-dd HH:mm:00\"\n",
        "#   interval (str/int): One of [\"minute\", \"hour\", \"day\", \"week\", \"month\", \"year\"]\n",
        "#                 or a positive integer. If it is an integer, it is interpreted in minutes\n",
        "def get_next(df_name, time, interval):\n",
        "    # Convert time to a datetime\n",
        "    str_time = time\n",
        "    try:\n",
        "        time = datetime.datetime.strptime(time, '%Y-%m-%d %H:%M:%S')\n",
        "    except:\n",
        "        print('Check time format')\n",
        "        return None\n",
        "    if interval == 'minute':\n",
        "        next = time + datetime.timedelta(minutes = 1)\n",
        "    elif interval == 'hour':\n",
        "        next = time + datetime.timedelta(hours = 1)\n",
        "    elif interval == 'day':\n",
        "        next = time + datetime.timedelta(days = 1)\n",
        "    elif interval == 'week':\n",
        "        next = time + relativedelta(weeks = 1)\n",
        "    elif interval == 'month':\n",
        "        next = time + relativedelta(months = 1)\n",
        "    elif interval == 'year':\n",
        "        next = time + relativedelta(years = 1)\n",
        "    elif isinstance(interval, int):\n",
        "        past = time + datetime.timedelta(minutes = int) \n",
        "    else:\n",
        "      print('Interval must be one of: [\"minute\", \"hour\", \"day\", \"week\", \"month\", \"year\"]')\n",
        "      return None\n",
        "    str_next = str(next)\n",
        "    res = spark.sql('select * ' +\\\n",
        "                    f'from {df_name} ' +\\\n",
        "                    f'where \"{str_time}\" <= time and time <= \"{str_next}\"')\n",
        "    return res\n",
        "\n",
        "# Given a date as a string of the format \"yyyy-MM-dd HH:mm:00\", get the day of the week\n",
        "# Monday is 0, Tuesday is 1, ...., Saturday is 5, Sunday is 6\n",
        "def day_of_week(time):\n",
        "    try:\n",
        "        time = datetime.datetime.strptime(time, '%Y-%m-%d %H:%M:%S')\n",
        "    except:\n",
        "        print('Check time format')\n",
        "        return None\n",
        "    return time.weekday()\n",
        "\n",
        "# Given a date as a string of the format \"yyyy-MM-dd HH:mm:00\", get the hour\n",
        "def hour(time):\n",
        "    try:\n",
        "        time = datetime.datetime.strptime(time, '%Y-%m-%d %H:%M:%S')\n",
        "    except:\n",
        "        print('Check time format')\n",
        "        return None\n",
        "    return time.hour\n",
        "\n",
        "# Given a date as a string of the format \"yyyy-MM-dd HH:mm:00\", get the month\n",
        "# Jan is 1, Feb is 2,,..., Dec is 12\n",
        "def month(time):\n",
        "    try:\n",
        "        time = datetime.datetime.strptime(time, '%Y-%m-%d %H:%M:%S')\n",
        "    except:\n",
        "        print('Check time format')\n",
        "        return None\n",
        "    return time.month\n",
        "  \n",
        "\n",
        "\n"
      ]
    },
    {
      "cell_type": "code",
      "execution_count": 8,
      "metadata": {
        "id": "UKmmAq47csOQ",
        "colab": {
          "base_uri": "https://localhost:8080/"
        },
        "outputId": "8d657a36-58d0-493f-8602-d8a9e2d5fc23"
      },
      "outputs": [
        {
          "output_type": "stream",
          "name": "stdout",
          "text": [
            "+-------------------+----------+---------+--------+--------+--------+--------+------+---------+---------+\n",
            "|               time|        id|   amount|    open|    high|     low|   close| count|      vol|coin_name|\n",
            "+-------------------+----------+---------+--------+--------+--------+--------+------+---------+---------+\n",
            "|2021-01-01 00:00:00|1609430400|227.52574|28779.15| 28833.0|28763.48|28822.69|2143.0|6553066.0|      btc|\n",
            "|2021-01-01 00:01:00|1609430460|186.73392|28822.69| 28833.0|28719.48|28728.99|2260.0|5377881.0|      btc|\n",
            "|2021-01-01 00:02:00|1609430520| 110.8757|28729.22|28746.63| 28700.0| 28700.0|1843.0|3183016.0|      btc|\n",
            "|2021-01-01 00:03:00|1609430580|52.740314|28700.72|28718.89| 28700.0| 28700.0| 983.0|1513759.2|      btc|\n",
            "|2021-01-01 00:04:00|1609430640| 45.09107|28700.01|28739.17|28684.27|28721.73|1268.0|1294242.2|      btc|\n",
            "+-------------------+----------+---------+--------+--------+--------+--------+------+---------+---------+\n",
            "only showing top 5 rows\n",
            "\n"
          ]
        }
      ],
      "source": [
        "get_next('bitcoin', '2021-01-01 00:00:00', 'hour').show(5)"
      ]
    },
    {
      "cell_type": "markdown",
      "metadata": {
        "id": "pXi3O6zWvWp5"
      },
      "source": [
        "### Functions to get stats from data\n",
        "- Get max/min row of a column in a dataframe\n",
        "- Get average of a column in a dataframe"
      ]
    },
    {
      "cell_type": "code",
      "execution_count": 9,
      "metadata": {
        "id": "h9TrQC8JvV16"
      },
      "outputs": [],
      "source": [
        "# Get the record from the dataframe \"df_name\" containing the maximum value in 'col_name'\n",
        "# df_name (str)\n",
        "# col_name (str): \n",
        "def get_max(df_name, col_name):\n",
        "    res = spark.sql('select * ' +\\\n",
        "                    f'from {df_name}, (' +\\\n",
        "                      f'select MAX({col_name}) as hi '+\\\n",
        "                      f'from {df_name} ' +\\\n",
        "                      ') as maxs ' +\\\n",
        "                    f'where {df_name}.{col_name} = maxs.hi')\n",
        "    return res\n",
        "\n",
        "# Get the record from the dataframe \"df_name\" containing the minimum value in 'col_name'\n",
        "# df_name (str)\n",
        "# col_name (str)\n",
        "def get_min(df_name, col_name):\n",
        "    res = spark.sql('select * ' +\\\n",
        "                    f'from {df_name}, (' +\\\n",
        "                      f'select MIN({col_name}) as hi '+\\\n",
        "                      f'from {df_name} ' +\\\n",
        "                      ') as maxs ' +\\\n",
        "                    f'where {df_name}.{col_name} = maxs.hi')\n",
        "    return res\n",
        "\n",
        "# Get the average of the column over a dataframe\n",
        "# df DataFrame)\n",
        "# col_name (str)\n",
        "def get_avg(df, col_name):\n",
        "    res = df.agg({col_name: 'avg'})\n",
        "    return res.collect()[0][0]"
      ]
    },
    {
      "cell_type": "code",
      "execution_count": 10,
      "metadata": {
        "id": "9pEreBqMcwc3",
        "colab": {
          "base_uri": "https://localhost:8080/"
        },
        "outputId": "8e890189-1d51-48d7-edc3-fa09c530d6fa"
      },
      "outputs": [
        {
          "output_type": "stream",
          "name": "stdout",
          "text": [
            "+-------------------+----------+--------+--------+--------+--------+--------+------+---------+---------+--------+\n",
            "|               time|        id|  amount|    open|    high|     low|   close| count|      vol|coin_name|      hi|\n",
            "+-------------------+----------+--------+--------+--------+--------+--------+------+---------+---------+--------+\n",
            "|2021-04-14 14:14:00|1618380840|72.75899|64795.71|64843.03|64670.53|64698.07|2735.0|4711909.5|      btc|64843.03|\n",
            "+-------------------+----------+--------+--------+--------+--------+--------+------+---------+---------+--------+\n",
            "\n",
            "+-------------------+----------+------+-------+-------+-------+-------+-----+---+---------+---+\n",
            "|               time|        id|amount|   open|   high|    low|  close|count|vol|coin_name| hi|\n",
            "+-------------------+----------+------+-------+-------+-------+-------+-----+---+---------+---+\n",
            "|2020-03-05 01:31:00|1583343060|   0.0|8728.66|8728.66|8728.66|8728.66|  0.0|0.0|      btc|0.0|\n",
            "|2020-03-05 01:32:00|1583343120|   0.0|8728.66|8728.66|8728.66|8728.66|  0.0|0.0|      btc|0.0|\n",
            "|2020-03-05 01:33:00|1583343180|   0.0|8728.66|8728.66|8728.66|8728.66|  0.0|0.0|      btc|0.0|\n",
            "|2020-03-05 01:34:00|1583343240|   0.0|8728.66|8728.66|8728.66|8728.66|  0.0|0.0|      btc|0.0|\n",
            "|2020-03-05 01:35:00|1583343300|   0.0|8728.66|8728.66|8728.66|8728.66|  0.0|0.0|      btc|0.0|\n",
            "+-------------------+----------+------+-------+-------+-------+-------+-----+---+---------+---+\n",
            "only showing top 5 rows\n",
            "\n",
            "bitcoin closing average:  21195.861393141076\n"
          ]
        }
      ],
      "source": [
        "get_max(\"bitcoin\", \"high\").show(5)\n",
        "get_min(\"bitcoin\", \"count\").show(5)\n",
        "print('bitcoin closing average: ', get_avg(bitcoin, 'close'))"
      ]
    },
    {
      "cell_type": "markdown",
      "metadata": {
        "id": "Ww6f3aQ13APY"
      },
      "source": [
        "### More specific Functions\n",
        "- Length of previous run (For how many minutes has the price been increasing/decreasing)\n",
        "- Fluctuation of a column in the dataset (max - min)\n",
        "- Slope of Secant Line (last - first)/(num_records)"
      ]
    },
    {
      "cell_type": "code",
      "execution_count": 11,
      "metadata": {
        "id": "OajTPGkb2_3z"
      },
      "outputs": [],
      "source": [
        "# Length of previous run (For which minutes minutes has the price been increasing)\n",
        "# earliers -> latest\n",
        "# df2.open, df2.close, df1.open, df1.close\n",
        "def increasing_runs(df_name):\n",
        "    res = spark.sql(\"select df1.id, df1.time as new_time, df2.time as prev_time, df1.open as new_open, \" +\\\n",
        "                    \"df1.close new_close, df2.open as prev_open, df2.close as prev_close \" +\\\n",
        "              f\"from {df_name} as df1, {df_name} as df2 \" +\\\n",
        "              f'where ((bigint(df1.time) - bigint(df2.time))/(60)) = 1 ' +\\\n",
        "                f'and df1.open >= df2.close and df1.close >= df1.open and ' +\\\n",
        "                'df2.close >= df2.open')\n",
        "    return res\n",
        "\n",
        "# Length of previous run (For which minutes minutes has the price been decreasing)\n",
        "def decreasing_runs(df_name):\n",
        "    res = spark.sql(\"select df1.id, df1.time as new_time, df2.time as prev_time, df1.open as new_open, \" +\\\n",
        "                    \"df1.close new_close, df2.open as prev_open, df2.close as prev_close \" +\\\n",
        "              f\"from {df_name} as df1, {df_name} as df2 \" +\\\n",
        "              f'where ((bigint(df1.time) - bigint(df2.time))/(60)) = 1 ' +\\\n",
        "                f'and df1.open <= df2.close and df1.close <= df1.open and ' +\\\n",
        "                'df2.close <= df2.open')\n",
        "    return res\n",
        "\n",
        "# Determine the difference between the max value of a column and the min in a dataset\n",
        "def fluctuation(df, col_name):\n",
        "     max = df.agg({col_name: 'max'}).collect()[0][0]\n",
        "     min = df.agg({col_name: 'min'}).collect()[0][0]\n",
        "     return max - min\n",
        "\n",
        "# Determine the slope of  the secant line \"col_name\" in the dataframe\n",
        "# df (DataFrame)\n",
        "# df_name (str)\n",
        "# secant is calculated (earliest_record - latest_record)/(count of records)\n",
        "def secant(df, df_name, col_name):\n",
        "    # Get the index of the column with col_name\n",
        "    cols = df.schema.fieldNames()\n",
        "    try:\n",
        "      i = cols.index(col_name)\n",
        "    except:\n",
        "      print('check col_name')\n",
        "      return None\n",
        "    # Get the value of 'col_name' of the earliest record\n",
        "    first = get_min(df_name, 'time').collect()[0][i]\n",
        "    print(first)\n",
        "    # Get the value of 'col_name' of the most recent record\n",
        "    last = get_max(df_name, 'time').collect()[0][i]\n",
        "    print(last)\n",
        "    return (last - first)/df.count()\n"
      ]
    },
    {
      "cell_type": "code",
      "execution_count": 12,
      "metadata": {
        "id": "l50vnDE63969",
        "colab": {
          "base_uri": "https://localhost:8080/"
        },
        "outputId": "1fd4f827-48d0-4a7f-ac09-c48ad651530d"
      },
      "outputs": [
        {
          "output_type": "stream",
          "name": "stdout",
          "text": [
            "+---+--------+---------+--------+---------+---------+----------+\n",
            "| id|new_time|prev_time|new_open|new_close|prev_open|prev_close|\n",
            "+---+--------+---------+--------+---------+---------+----------+\n",
            "+---+--------+---------+--------+---------+---------+----------+\n",
            "\n"
          ]
        }
      ],
      "source": [
        "# All the records where id is increasing in the past hour\n",
        "prev_hour = get_past('bitcoin','2021-02-01 00:00:00', 'hour')\n",
        "prev_hour.createOrReplaceTempView('prev_hour')\n",
        "inc_runs = increasing_runs('prev_hour')\n",
        "inc_runs.show(5) "
      ]
    },
    {
      "cell_type": "markdown",
      "metadata": {
        "id": "XDFTdgBSZXSf"
      },
      "source": [
        "## Bitcoin Only\n",
        "A summary of our bitcoin data"
      ]
    },
    {
      "cell_type": "code",
      "execution_count": 13,
      "metadata": {
        "id": "IhwXuc4ZlKLa",
        "colab": {
          "base_uri": "https://localhost:8080/"
        },
        "outputId": "99a491c6-9079-4817-8d07-3b59559d0d6f"
      },
      "outputs": [
        {
          "output_type": "stream",
          "name": "stdout",
          "text": [
            "+-------+--------------------+-----------------+------------------+------------------+------------------+------------------+-----------------+-----------------+---------+\n",
            "|summary|                  id|           amount|              open|              high|               low|             close|            count|              vol|coin_name|\n",
            "+-------+--------------------+-----------------+------------------+------------------+------------------+------------------+-----------------+-----------------+---------+\n",
            "|  count|              720600|           720600|            720600|            720600|            720600|            720600|           720600|           720600|   720600|\n",
            "|   mean|        1.59942597E9|28.14799621911759|21195.810476006798|21210.585605538883|21180.805883779238|21195.861393141076|497.0052733832917|530415.2355742604|     null|\n",
            "| stddev|1.2481166779592363E7|59.00357123195646|17858.272283483435|17873.054078929654|17843.404202435955|17858.292884577717|692.1520085278858|1134899.359082023|     null|\n",
            "|    min|          1577808000|              0.0|           3808.27|           3887.88|            3800.0|           3808.27|              0.0|              0.0|      btc|\n",
            "|    max|          1621043940|        3315.3396|          64795.71|          64843.03|          64670.53|           64800.0|          37390.0|      7.7127416E7|      btc|\n",
            "+-------+--------------------+-----------------+------------------+------------------+------------------+------------------+-----------------+-----------------+---------+\n",
            "\n",
            "Earliest date:  2020-01-01 00:00:00\n",
            "Latest date:  2021-05-15 09:59:00\n"
          ]
        }
      ],
      "source": [
        "bitcoin.describe().show()\n",
        "print('Earliest date: ', bitcoin.agg({'time': 'min'}).collect()[0][0])\n",
        "print('Latest date: ', bitcoin.agg({'time': 'max'}).collect()[0][0])"
      ]
    },
    {
      "cell_type": "markdown",
      "metadata": {
        "id": "i79Lmv1nxa6v"
      },
      "source": [
        "\n",
        "- 720,600 records \n",
        "- From Jan 1, 2020 to May 15, 2021 (Beijing Time)\n",
        "- Average Bitcoin traded in each minute is 28.15 with a standard deviation of 59\n",
        "  - The most bitcoin traded in a minute was 3315.3396 (at 2020-06-02 22:46:00)\n",
        "- Average price in this time frame is approximately \\$21200 USDT (with standard deviation of ~\\$17800 USDT)\n",
        "  - Reached a high of \\$64843.03 USDT (at 2021-04-14 14:14:00)\n",
        "  - Low of \\$3800.00 USDT (2020-03-13 10:16:00)\n",
        "- Average transactions in a minute is 497, with a standard deviation of 692.\n",
        "  - Some minutes with no transactions! \n",
        "  - Most transactions in a minute was 37390\n",
        "\n"
      ]
    },
    {
      "cell_type": "markdown",
      "metadata": {
        "id": "apAwKFa3ZiqU"
      },
      "source": [
        "Some SQL queries used to find specfic rows in the data."
      ]
    },
    {
      "cell_type": "code",
      "execution_count": 14,
      "metadata": {
        "id": "CfGZhZX89OBP",
        "colab": {
          "base_uri": "https://localhost:8080/"
        },
        "outputId": "5ba229f3-2616-48e6-cc54-2d1e122d3fb5"
      },
      "outputs": [
        {
          "output_type": "stream",
          "name": "stdout",
          "text": [
            "Most # of Bitcoin traded:\n",
            "+-------------------+----------+---------+--------+-------+-------+-------+-------+-----------+---------+\n",
            "|               time|        id|   amount|    open|   high|    low|  close|  count|        vol|coin_name|\n",
            "+-------------------+----------+---------+--------+-------+-------+-------+-------+-----------+---------+\n",
            "|2020-06-02 22:46:00|1591109160|3315.3396|10111.86|10113.0|9768.55|9774.14|13910.0|3.2884318E7|      btc|\n",
            "+-------------------+----------+---------+--------+-------+-------+-------+-------+-----------+---------+\n",
            "\n",
            "Peak Bitcoin Price\n",
            "+-------------------+----------+--------+--------+--------+--------+--------+------+---------+---------+\n",
            "|               time|        id|  amount|    open|    high|     low|   close| count|      vol|coin_name|\n",
            "+-------------------+----------+--------+--------+--------+--------+--------+------+---------+---------+\n",
            "|2021-04-14 14:14:00|1618380840|72.75899|64795.71|64843.03|64670.53|64698.07|2735.0|4711909.5|      btc|\n",
            "+-------------------+----------+--------+--------+--------+--------+--------+------+---------+---------+\n",
            "\n",
            "Lowest Bitcoin Price\n",
            "+-------------------+----------+--------+-------+-------+------+-------+------+---------+---------+\n",
            "|               time|        id|  amount|   open|   high|   low|  close| count|      vol|coin_name|\n",
            "+-------------------+----------+--------+-------+-------+------+-------+------+---------+---------+\n",
            "|2020-03-13 10:16:00|1584065760|925.1557|3808.27|3887.88|3800.0|3868.88|3512.0|3529879.2|      btc|\n",
            "+-------------------+----------+--------+-------+-------+------+-------+------+---------+---------+\n",
            "\n",
            "No Transactions\n",
            "+--------+\n",
            "|count(1)|\n",
            "+--------+\n",
            "|     212|\n",
            "+--------+\n",
            "\n"
          ]
        }
      ],
      "source": [
        "# The most bitcoin was traded:\n",
        "print(\"Most # of Bitcoin traded:\")\n",
        "spark.sql('select * ' +\\\n",
        "          f'from bitcoin ' +\\\n",
        "          f'where amount > 3315').show()\n",
        "\n",
        "# When was the maximum bitcoin price reached (IN USDT)\n",
        "print(\"Peak Bitcoin Price\")\n",
        "spark.sql('select * ' +\\\n",
        "          f'from bitcoin ' +\\\n",
        "          f'where high > 64800').show()\n",
        "\n",
        "# Bitcoin's lowest price in this dataset occured:\n",
        "print(\"Lowest Bitcoin Price\")\n",
        "spark.sql('select * ' +\\\n",
        "          f'from bitcoin ' +\\\n",
        "          f'where low <= 3800').show()\n",
        "\n",
        "# How often are there no transactions?\n",
        "print(\"No Transactions\")\n",
        "spark.sql('select COUNT(*) ' +\\\n",
        "          f'from bitcoin ' +\\\n",
        "          f'where count = 0').show()\n"
      ]
    },
    {
      "cell_type": "code",
      "execution_count": 15,
      "metadata": {
        "id": "mjK7IUPpGz3o",
        "colab": {
          "base_uri": "https://localhost:8080/",
          "height": 516
        },
        "outputId": "d36d844f-15ac-4667-d9ad-ffc153f23f5d"
      },
      "outputs": [
        {
          "output_type": "execute_result",
          "data": {
            "text/plain": [
              "        time  total_transactions\n",
              "0 2020-08-24            303444.0\n",
              "1 2021-01-27           1333915.0\n",
              "2 2020-01-21            153447.0\n",
              "3 2020-07-24            334599.0\n",
              "4 2020-08-05            369935.0"
            ],
            "text/html": [
              "\n",
              "  <div id=\"df-190870ee-2015-4186-bd4a-d5027e715852\">\n",
              "    <div class=\"colab-df-container\">\n",
              "      <div>\n",
              "<style scoped>\n",
              "    .dataframe tbody tr th:only-of-type {\n",
              "        vertical-align: middle;\n",
              "    }\n",
              "\n",
              "    .dataframe tbody tr th {\n",
              "        vertical-align: top;\n",
              "    }\n",
              "\n",
              "    .dataframe thead th {\n",
              "        text-align: right;\n",
              "    }\n",
              "</style>\n",
              "<table border=\"1\" class=\"dataframe\">\n",
              "  <thead>\n",
              "    <tr style=\"text-align: right;\">\n",
              "      <th></th>\n",
              "      <th>time</th>\n",
              "      <th>total_transactions</th>\n",
              "    </tr>\n",
              "  </thead>\n",
              "  <tbody>\n",
              "    <tr>\n",
              "      <th>0</th>\n",
              "      <td>2020-08-24</td>\n",
              "      <td>303444.0</td>\n",
              "    </tr>\n",
              "    <tr>\n",
              "      <th>1</th>\n",
              "      <td>2021-01-27</td>\n",
              "      <td>1333915.0</td>\n",
              "    </tr>\n",
              "    <tr>\n",
              "      <th>2</th>\n",
              "      <td>2020-01-21</td>\n",
              "      <td>153447.0</td>\n",
              "    </tr>\n",
              "    <tr>\n",
              "      <th>3</th>\n",
              "      <td>2020-07-24</td>\n",
              "      <td>334599.0</td>\n",
              "    </tr>\n",
              "    <tr>\n",
              "      <th>4</th>\n",
              "      <td>2020-08-05</td>\n",
              "      <td>369935.0</td>\n",
              "    </tr>\n",
              "  </tbody>\n",
              "</table>\n",
              "</div>\n",
              "      <button class=\"colab-df-convert\" onclick=\"convertToInteractive('df-190870ee-2015-4186-bd4a-d5027e715852')\"\n",
              "              title=\"Convert this dataframe to an interactive table.\"\n",
              "              style=\"display:none;\">\n",
              "        \n",
              "  <svg xmlns=\"http://www.w3.org/2000/svg\" height=\"24px\"viewBox=\"0 0 24 24\"\n",
              "       width=\"24px\">\n",
              "    <path d=\"M0 0h24v24H0V0z\" fill=\"none\"/>\n",
              "    <path d=\"M18.56 5.44l.94 2.06.94-2.06 2.06-.94-2.06-.94-.94-2.06-.94 2.06-2.06.94zm-11 1L8.5 8.5l.94-2.06 2.06-.94-2.06-.94L8.5 2.5l-.94 2.06-2.06.94zm10 10l.94 2.06.94-2.06 2.06-.94-2.06-.94-.94-2.06-.94 2.06-2.06.94z\"/><path d=\"M17.41 7.96l-1.37-1.37c-.4-.4-.92-.59-1.43-.59-.52 0-1.04.2-1.43.59L10.3 9.45l-7.72 7.72c-.78.78-.78 2.05 0 2.83L4 21.41c.39.39.9.59 1.41.59.51 0 1.02-.2 1.41-.59l7.78-7.78 2.81-2.81c.8-.78.8-2.07 0-2.86zM5.41 20L4 18.59l7.72-7.72 1.47 1.35L5.41 20z\"/>\n",
              "  </svg>\n",
              "      </button>\n",
              "      \n",
              "  <style>\n",
              "    .colab-df-container {\n",
              "      display:flex;\n",
              "      flex-wrap:wrap;\n",
              "      gap: 12px;\n",
              "    }\n",
              "\n",
              "    .colab-df-convert {\n",
              "      background-color: #E8F0FE;\n",
              "      border: none;\n",
              "      border-radius: 50%;\n",
              "      cursor: pointer;\n",
              "      display: none;\n",
              "      fill: #1967D2;\n",
              "      height: 32px;\n",
              "      padding: 0 0 0 0;\n",
              "      width: 32px;\n",
              "    }\n",
              "\n",
              "    .colab-df-convert:hover {\n",
              "      background-color: #E2EBFA;\n",
              "      box-shadow: 0px 1px 2px rgba(60, 64, 67, 0.3), 0px 1px 3px 1px rgba(60, 64, 67, 0.15);\n",
              "      fill: #174EA6;\n",
              "    }\n",
              "\n",
              "    [theme=dark] .colab-df-convert {\n",
              "      background-color: #3B4455;\n",
              "      fill: #D2E3FC;\n",
              "    }\n",
              "\n",
              "    [theme=dark] .colab-df-convert:hover {\n",
              "      background-color: #434B5C;\n",
              "      box-shadow: 0px 1px 3px 1px rgba(0, 0, 0, 0.15);\n",
              "      filter: drop-shadow(0px 1px 2px rgba(0, 0, 0, 0.3));\n",
              "      fill: #FFFFFF;\n",
              "    }\n",
              "  </style>\n",
              "\n",
              "      <script>\n",
              "        const buttonEl =\n",
              "          document.querySelector('#df-190870ee-2015-4186-bd4a-d5027e715852 button.colab-df-convert');\n",
              "        buttonEl.style.display =\n",
              "          google.colab.kernel.accessAllowed ? 'block' : 'none';\n",
              "\n",
              "        async function convertToInteractive(key) {\n",
              "          const element = document.querySelector('#df-190870ee-2015-4186-bd4a-d5027e715852');\n",
              "          const dataTable =\n",
              "            await google.colab.kernel.invokeFunction('convertToInteractive',\n",
              "                                                     [key], {});\n",
              "          if (!dataTable) return;\n",
              "\n",
              "          const docLinkHtml = 'Like what you see? Visit the ' +\n",
              "            '<a target=\"_blank\" href=https://colab.research.google.com/notebooks/data_table.ipynb>data table notebook</a>'\n",
              "            + ' to learn more about interactive tables.';\n",
              "          element.innerHTML = '';\n",
              "          dataTable['output_type'] = 'display_data';\n",
              "          await google.colab.output.renderOutput(dataTable, element);\n",
              "          const docLink = document.createElement('div');\n",
              "          docLink.innerHTML = docLinkHtml;\n",
              "          element.appendChild(docLink);\n",
              "        }\n",
              "      </script>\n",
              "    </div>\n",
              "  </div>\n",
              "  "
            ]
          },
          "metadata": {},
          "execution_count": 15
        },
        {
          "output_type": "display_data",
          "data": {
            "text/plain": [
              "<Figure size 432x288 with 1 Axes>"
            ],
            "image/png": "[encoded data removed]"
          },
          "metadata": {
            "needs_background": "light"
          }
        }
      ],
      "source": [
        "# Plot daily transaction from start time - end time\n",
        "#   df_name (str): Name of the dataframe\n",
        "#   start_time (str): timstamp in the form \"yyyy-MM-dd HH:mm\"\n",
        "#   end_time (str): timstamp in the form \"yyyy-MM-dd HH:mm\"\n",
        "def plot_daily_transactions(df_name, start = '2020-01-01', end = '2021-05-15'):\n",
        "    data = spark.sql('select cast(time as DATE), sum(count) as total_transactions ' +\\\n",
        "                     f'from {df_name} ' +\\\n",
        "                     f'where \"{start}\" <= cast(time as DATE) and cast(time as DATE) <= \"{end}\" '\n",
        "                     f'group by cast(time as DATE)')\n",
        "    res = data.toPandas()\n",
        "    res['time'] = pd.to_datetime(res['time'])\n",
        "    res.plot(x = 'time', y= 'total_transactions', xlabel = 'Date', \n",
        "             ylabel='Count of Transactions', title= f'Daily {df_name} Transactions',\n",
        "             kind = 'scatter', rot = 90)\n",
        "    return res.head()\n",
        "    \n",
        "plot_daily_transactions('bitcoin')"
      ]
    },
    {
      "cell_type": "code",
      "execution_count": 16,
      "metadata": {
        "id": "3NE-XGq058uK"
      },
      "outputs": [],
      "source": [
        "#spark.sql('select datename(weekday, ')"
      ]
    },
    {
      "cell_type": "code",
      "execution_count": 17,
      "metadata": {
        "id": "UL6YRNXAmFCd",
        "colab": {
          "base_uri": "https://localhost:8080/"
        },
        "outputId": "8a63d502-7689-4dc8-9c7f-dc0715e43e1c"
      },
      "outputs": [
        {
          "output_type": "stream",
          "name": "stdout",
          "text": [
            "+-------+--------------------+-----------------+-----------------+-----------------+-----------------+-----------------+------------------+------------------+---------+\n",
            "|summary|                  id|           amount|             open|             high|              low|            close|             count|               vol|coin_name|\n",
            "+-------+--------------------+-----------------+-----------------+-----------------+-----------------+-----------------+------------------+------------------+---------+\n",
            "|  count|              720600|           720600|           720600|           720600|           720600|           720600|            720600|            720600|   720600|\n",
            "|   mean|1.5994259175437136E9|571.1394493828675|736.2464849492586|736.9328086850699|735.5576745359097|736.2517928575404|404.06734388009994|380534.72234344226|     null|\n",
            "| stddev|1.2481254966787193E7|1101.445296020103|810.8080126089177|811.6869546090837|809.9363864708872|810.8167532408693| 608.2200230792427| 861413.4926717245|     null|\n",
            "|    min|          1577808000|              0.0|            88.04|            90.16|             87.0|            88.04|               0.0|               0.0|      eth|\n",
            "|    max|          1621043940|         59106.71|           4363.7|          4371.54|           4357.7|          4363.69|           30250.0|       4.9418452E7|      eth|\n",
            "+-------+--------------------+-----------------+-----------------+-----------------+-----------------+-----------------+------------------+------------------+---------+\n",
            "\n",
            "Earliest date:  2020-01-01 00:00:00\n",
            "Latest date:  2021-05-15 09:59:00\n"
          ]
        }
      ],
      "source": [
        "# Ethereum Only\n",
        "ethereum.describe().show()\n",
        "print('Earliest date: ', ethereum.agg({'time': 'min'}).collect()[0][0])\n",
        "print('Latest date: ', ethereum.agg({'time': 'max'}).collect()[0][0])"
      ]
    },
    {
      "cell_type": "markdown",
      "metadata": {
        "id": "KkQZz0iTAsIB"
      },
      "source": [
        "### Ethereum Only\n",
        "- 720,600 records \n",
        "- From Jan 1, 2020 to May 15, 2021 (Beijing Time)\n",
        "- Average Ethereum traded in each minute is 571.14 with a standard deviation of 1101.44\n",
        "  - The most ethereum traded in a minute was 59106.71 (WHEN)\n",
        "- Average price in this time frame is approximately \\$736 USDT (with standard deviation of ~\\$810 USDT)\n",
        "  - Reached a high of \\$4371.54 USDT (WHEN)\n",
        "  - Low of \\$87.0 USDT (WHEN)\n",
        "- Average transactions in a minute is 404, with a standard deviation of 608.\n",
        "  - Some minutes with no transactions! (HOW MANY?)\n",
        "  - Most transactions in a minute was 30250 (WHEN?)\n",
        "\n"
      ]
    },
    {
      "cell_type": "markdown",
      "metadata": {
        "id": "ECjNmK1Qkj0H"
      },
      "source": [
        "## **Plotting Two Variables Against Each Other**\n",
        "\n",
        "The assumption for this function will be that the data is organized in a dataframe where:\n",
        "\n",
        "1. Each row represents data for one specific coin for one specific minute\n",
        "2. There is a column in the dataframe which serves as some coin identifier. For example *coin_name* in myDF below.\n",
        "\n",
        "Also note, the times plotted will be 12:00 pm and 12:00 am since reading all the data into a Pandas dataframe leads to memory overflow.\n"
      ]
    },
    {
      "cell_type": "code",
      "execution_count": 18,
      "metadata": {
        "id": "kblKTs02ljsG",
        "colab": {
          "base_uri": "https://localhost:8080/",
          "height": 206
        },
        "outputId": "9bef3103-5667-429d-803a-df62ec994995"
      },
      "outputs": [
        {
          "output_type": "error",
          "ename": "NameError",
          "evalue": "ignored",
          "traceback": [
            "\u001b[0;31m---------------------------------------------------------------------------\u001b[0m",
            "\u001b[0;31mNameError\u001b[0m                                 Traceback (most recent call last)",
            "\u001b[0;32m<ipython-input-18-17b72e33d7c2>\u001b[0m in \u001b[0;36m<module>\u001b[0;34m()\u001b[0m\n\u001b[1;32m      2\u001b[0m \u001b[0;34m\u001b[0m\u001b[0m\n\u001b[1;32m      3\u001b[0m \u001b[0;34m\u001b[0m\u001b[0m\n\u001b[0;32m----> 4\u001b[0;31m \u001b[0mprint\u001b[0m\u001b[0;34m(\u001b[0m\u001b[0mmyDF\u001b[0m\u001b[0;34m.\u001b[0m\u001b[0mmemory_usage\u001b[0m\u001b[0;34m(\u001b[0m\u001b[0;34m)\u001b[0m\u001b[0;34m)\u001b[0m\u001b[0;34m\u001b[0m\u001b[0;34m\u001b[0m\u001b[0m\n\u001b[0m",
            "\u001b[0;31mNameError\u001b[0m: name 'myDF' is not defined"
          ]
        }
      ],
      "source": [
        "\n",
        "\n",
        "\n",
        "print(myDF.memory_usage())\n"
      ]
    },
    {
      "cell_type": "code",
      "execution_count": null,
      "metadata": {
        "id": "lhrulHBtgKWu"
      },
      "outputs": [],
      "source": [
        "myDF.head(10)"
      ]
    },
    {
      "cell_type": "code",
      "execution_count": null,
      "metadata": {
        "id": "Y3jFg5H_o_-z"
      },
      "outputs": [],
      "source": [
        "import ipywidgets as widgets\n",
        "import pandas as pd\n",
        "import matplotlib.pyplot as plt\n",
        "\n",
        "myDF['y'] = (myDF['y'] - myDF['close'])/(myDF['close'])\n",
        "\n",
        "#this is the function that will perform the plotting\n",
        "def plotter(x,y, coins):\n",
        "  plt.rcParams[\"figure.figsize\"] = [8,8]\n",
        "  plt.xlabel(x.title())\n",
        "  plt.ylabel(y.title())\n",
        "  plt.title(f\"{x.title()} Vs. {y.title()}\")\n",
        "  plt.style.use('dark_background')\n",
        "  for coin in coins:\n",
        "    filteredDF = myDF[myDF.coin_name == coin]\n",
        "    plt.plot(filteredDF[x],filteredDF[y],label = coin,marker = \"o\",linestyle = \"None\",markersize = 3.5)\n",
        "    plt.legend()\n",
        "\n",
        "inputs = widgets.Box(children = [\n",
        "    widgets.SelectMultiple(description = \"Coin(s)\",options = myDF[\"coin_name\"].unique(),value = [\"btc\"]),\n",
        "    widgets.Select(description = \"X Variable\", value = \"low\",options = myDF.columns.values.tolist()),\n",
        "    widgets.Select(description = \"Y Variable\", value = \"high\", options = myDF.columns.values.tolist())])\n",
        "\n",
        "#add interactivity to the plot so that the user can pick what coin along with what information they want to see\n",
        "widgets.interact(plotter,  x = inputs.children[1], y = inputs.children[2],coins = inputs.children[0])"
      ]
    },
    {
      "cell_type": "markdown",
      "metadata": {
        "id": "_qwruDMF1RhT"
      },
      "source": [
        "## **Building the Model Manually**\n",
        "\n",
        "First, we get all of the features into a data frame and then perform normalization of those features."
      ]
    },
    {
      "cell_type": "code",
      "execution_count": 22,
      "metadata": {
        "id": "RmKPt3PI1gmk"
      },
      "outputs": [],
      "source": [
        "totalDF = spark.sql('''SELECT\n",
        "                      CASE\n",
        "                        WHEN coin_name == 'ada' THEN 1 ELSE 0\n",
        "                      END AS ada,\n",
        "                      CASE\n",
        "                        WHEN coin_name == 'bch' THEN 1 ELSE 0\n",
        "                      END AS bch,\n",
        "                      CASE\n",
        "                        WHEN coin_name == 'bsv' THEN 1 ELSE 0\n",
        "                      END AS bsv,\n",
        "                      CASE\n",
        "                        WHEN coin_name == 'btc' THEN 1 ELSE 0\n",
        "                      END AS btc,\n",
        "                      CASE\n",
        "                        WHEN coin_name == 'btt' THEN 1 ELSE 0\n",
        "                      END AS btt,\n",
        "                      CASE\n",
        "                        WHEN coin_name == 'doge' THEN 1 ELSE 0\n",
        "                      END AS doge,\n",
        "                      CASE\n",
        "                        WHEN coin_name == 'dot' THEN 1 ELSE 0\n",
        "                      END AS dot,\n",
        "                      CASE\n",
        "                        WHEN coin_name == 'eos' THEN 1 ELSE 0\n",
        "                      END AS eos,\n",
        "                      CASE\n",
        "                        WHEN coin_name == 'etc' THEN 1 ELSE 0\n",
        "                      END AS etc,\n",
        "                      CASE\n",
        "                        WHEN coin_name == 'eth' THEN 1 ELSE 0\n",
        "                      END AS eth,\n",
        "                      CASE\n",
        "                        WHEN coin_name == 'fil' THEN 1 ELSE 0\n",
        "                      END AS fil,\n",
        "                      CASE\n",
        "                        WHEN coin_name == 'ht' THEN 1 ELSE 0\n",
        "                      END AS ht,\n",
        "                      CASE\n",
        "                        WHEN coin_name == 'link' THEN 1 ELSE 0\n",
        "                      END AS link,\n",
        "                      CASE\n",
        "                        WHEN coin_name == 'ltc' THEN 1 ELSE 0\n",
        "                      END AS ltc,\n",
        "                      CASE\n",
        "                        WHEN coin_name == 'neo' THEN 1 ELSE 0\n",
        "                      END AS neo,\n",
        "                      CASE\n",
        "                        WHEN coin_name == 'qtum' THEN 1 ELSE 0\n",
        "                      END AS qtum,\n",
        "                      CASE\n",
        "                        WHEN coin_name == 'sun' THEN 1 ELSE 0\n",
        "                      END AS sun,\n",
        "                      CASE\n",
        "                        WHEN coin_name == 'sushi' THEN 1 ELSE 0\n",
        "                      END AS sushi,\n",
        "                      CASE\n",
        "                        WHEN coin_name == 'trx' THEN 1 ELSE 0\n",
        "                      END AS trx,\n",
        "                      CASE\n",
        "                        WHEN coin_name == 'tt' THEN 1 ELSE 0\n",
        "                      END AS tt,\n",
        "                      CASE\n",
        "                        WHEN coin_name == 'uni' THEN 1 ELSE 0\n",
        "                      END AS uni,\n",
        "                      CASE\n",
        "                        WHEN coin_name == 'xrp' THEN 1 ELSE 0\n",
        "                      END AS xrp,\n",
        "                      CASE \n",
        "                        WHEN SUBSTRING(time,12,2) IN ('00','01','02','03','04','05') THEN 1 ELSE 0\n",
        "                      END AS night,\n",
        "                      CASE \n",
        "                        WHEN SUBSTRING(time,12,2) IN ('06','07','08','09','10','11') THEN 1 ELSE 0\n",
        "                      END AS morning,\n",
        "                      CASE \n",
        "                        WHEN SUBSTRING(time,12,2) IN ('12','13','14','15','16','17') THEN 1 ELSE 0\n",
        "                      END AS afternoon,\n",
        "                      RAND() as random_id,\n",
        "                      close,\n",
        "                      count,\n",
        "                      vol,\n",
        "                      LAG (close,20160) OVER (PARTITION BY coin_name ORDER BY time ASC) AS price_two_weeks,\n",
        "                      LAG (close,43200) OVER (PARTITION BY coin_name ORDER BY time ASC) AS price_one_month,\n",
        "                      ((LAG (close, 1440) OVER (PARTITION BY coin_name ORDER BY time ASC)) - close)/1440 AS roc,\n",
        "                      LEAD (close,1440) OVER (PARTITION BY coin_name ORDER BY time ASC) AS y\n",
        "                      FROM crypto''')\n",
        "\n",
        "                      #time,\n",
        "                      #LEFT(time,10) AS day,"
      ]
    },
    {
      "cell_type": "code",
      "execution_count": 23,
      "metadata": {
        "colab": {
          "base_uri": "https://localhost:8080/"
        },
        "id": "j3gSuY1dRuNo",
        "outputId": "209b74e6-f1cb-4aba-b241-30eff332c4ac"
      },
      "outputs": [
        {
          "output_type": "stream",
          "name": "stdout",
          "text": [
            "[Row(scaled=DenseVector([-0.2309, -0.2309, -0.2309, -0.2309, -0.2309, -0.2309, -0.161, -0.2309, -0.2309, -0.2309, -0.1408, -0.2309, -0.2309, -0.2309, -0.2309, -0.2309, -0.154, -0.1575, 4.3317, -0.2309, -0.1518, -0.2309, 1.7305, -0.5775, -0.5769, -0.2444, 9.892, 2.9504, -0.2447, -0.2444, 0.018]), y=0.15500999987125397), Row(scaled=DenseVector([-0.2309, -0.2309, -0.2309, -0.2309, -0.2309, -0.2309, -0.161, -0.2309, -0.2309, -0.2309, -0.1408, -0.2309, -0.2309, -0.2309, -0.2309, -0.2309, -0.154, -0.1575, -0.2309, 4.3317, -0.1518, -0.2309, -0.5779, -0.5775, -0.5769, -0.2444, -0.327, -0.2383, -0.2447, -0.2444, 0.018]), y=0.00534699996933341)]\n"
          ]
        }
      ],
      "source": [
        "#!pip install pyspark\n",
        "\n",
        "#get only the desired rows\n",
        "totalDF = totalDF.sort('random_id',ascending = False).filter(\"y IS NOT NULL AND price_two_weeks IS NOT NULL AND price_one_month IS NOT NULL\").drop('random_id')\n",
        "\n",
        "#now normalize the features by subtracting the mean and dividing by the standard deviation\n",
        "from pyspark.ml.linalg import Vector\n",
        "from pyspark.ml.feature import VectorAssembler\n",
        "\n",
        "#get the columns we want to normalize\n",
        "all_cols = totalDF.columns\n",
        "all_cols.remove('y') #don't scale the true value\n",
        "\n",
        "#put all the features we want to normalize into a vector\n",
        "assembler = VectorAssembler(inputCols = all_cols,outputCol = \"all_features\")\n",
        "totalDF = assembler.transform(totalDF)\n",
        "\n",
        "#perform the normalization\n",
        "from pyspark.ml.feature import StandardScaler\n",
        "scaler = StandardScaler(inputCol = 'all_features',outputCol = 'scaled',withMean= True, withStd = True)\n",
        "scalerFit = scaler.fit(totalDF)\n",
        "\n",
        "#take only the column of vectors and the label\n",
        "totalDF = scalerFit.transform(totalDF).select('scaled','y')\n",
        "\n",
        "print(totalDF.take(2))\n"
      ]
    },
    {
      "cell_type": "markdown",
      "source": [
        "Next, split the data into training and test sets."
      ],
      "metadata": {
        "id": "Y-WkqOTd-Jhr"
      }
    },
    {
      "cell_type": "code",
      "source": [
        "totalDatasetSize = totalDF.count()\n",
        "\n",
        "def convertToTuple(x):\n",
        "  theList = [1]\n",
        "  theList = theList + [i for i in x[0]]\n",
        "  theList.append(x[1])\n",
        "  return tuple(theList)\n",
        "\n",
        "\n",
        "trainSet = totalDF.limit(int(0.8*totalDatasetSize)).rdd.map(tuple).map(lambda x: convertToTuple(x)).repartition(1)\n",
        "trainSet.cache()\n",
        "testSet = totalDF.limit(int(0.2*totalDatasetSize)).rdd.map(tuple).map(lambda x: convertToTuple(x)).repartition(1)\n",
        "print(trainSet.take(2))"
      ],
      "metadata": {
        "colab": {
          "base_uri": "https://localhost:8080/"
        },
        "id": "a_K_Twud-Mn9",
        "outputId": "809f64c5-f4ec-4172-a39c-9727135eb95e"
      },
      "execution_count": 24,
      "outputs": [
        {
          "output_type": "stream",
          "name": "stdout",
          "text": [
            "[(1, -0.23085741918679384, -0.23085741918679384, -0.23085741918679384, -0.23085741918679384, -0.23085741918679384, -0.23085741918679384, -0.16102767355031966, -0.23085741918679384, -0.23085741918679384, -0.23085741918679384, -0.14083185091183825, -0.23085741918679384, -0.23085741918679384, -0.23085741918679384, -0.23085741918679384, -0.23085741918679384, -0.15399386135059734, -0.1575406103607569, 4.331677659172788, -0.23085741918679384, -0.1518006540807176, -0.23085741918679384, 1.7304713011866513, -0.5774781126811821, -0.5769026908574187, -0.2443525122303999, 9.891982331191432, 2.950389549484, -0.2447242647386857, -0.24438825087329266, 0.017973324369056676, 0.15500999987125397), (1, -0.23085741918679384, -0.23085741918679384, -0.23085741918679384, -0.23085741918679384, -0.23085741918679384, -0.23085741918679384, -0.16102767355031966, -0.23085741918679384, -0.23085741918679384, -0.23085741918679384, -0.14083185091183825, -0.23085741918679384, -0.23085741918679384, -0.23085741918679384, -0.23085741918679384, -0.23085741918679384, -0.15399386135059734, -0.1575406103607569, -0.23085741918679384, 4.331677659172788, -0.1518006540807176, -0.23085741918679384, -0.5778772086309573, -0.5774781126811821, -0.5769026908574187, -0.24436857807099102, -0.3269704221115144, -0.23834620769869097, -0.24474108108314388, -0.24440755076778903, 0.017998819445137468, 0.00534699996933341)]\n"
          ]
        }
      ]
    },
    {
      "cell_type": "markdown",
      "metadata": {
        "id": "ik068m5CbDdd"
      },
      "source": [
        "Next perform sequential stochastic gradient descent on the training set. This will give us the optimal parameters. The loss function used will just be the squared difference."
      ]
    },
    {
      "cell_type": "code",
      "execution_count": 29,
      "metadata": {
        "id": "5f1cjSg1BMIh"
      },
      "outputs": [],
      "source": [
        "lr = 0.001\n",
        "num_features = 32 #31 features + intercept term\n",
        "\n",
        "def obtainYHat(point,model):\n",
        "  yhat = 0\n",
        "  for index in range(0,num_features):\n",
        "    yhat += float(point[index])*model[index]\n",
        "  return yhat\n",
        "\n",
        "def trainer(thePartition):\n",
        "  counter = 0\n",
        "  model = [0 for i in range(0,num_features)] #the model we will return\n",
        "  buffer = [0 for i in range(0,num_features)] #buffering the batch results: batch size of 100\n",
        "\n",
        "  for point in thePartition:\n",
        "    trueValue = float(point[len(point)-1])\n",
        "    yhat = obtainYHat(point,model)\n",
        "    for index in range(0,num_features):\n",
        "      buffer[index] += 2*(trueValue-yhat)*(-1)*float(point[index])\n",
        "    if counter % 1000 == 0: #we've come to the end of a batch so update the model parameters\n",
        "      model = [model[i] - lr*(buffer[i]/500) for i in range(0,num_features)] #update the model after we've buffered 500 observations\n",
        "      buffer = [0 for i in range(0,num_features)] #reset the buffer\n",
        "    counter += 1\n",
        "\n",
        "  return model\n",
        "\n",
        "model = trainSet.mapPartitions(trainer).collect()\n"
      ]
    },
    {
      "cell_type": "markdown",
      "source": [
        "Now that we have the model, we perform the predictions on the test set. The *predictions* RDD below will contain 2-element tuples where the first element is the true value and the second is the predicted value"
      ],
      "metadata": {
        "id": "lDQKjsgYT0uh"
      }
    },
    {
      "cell_type": "code",
      "source": [
        "predictions = testSet.map(lambda x: (x[-1],obtainYHat(x,model)))\n",
        "print(predictions.take(10))"
      ],
      "metadata": {
        "id": "1e-2N5heN31k",
        "colab": {
          "base_uri": "https://localhost:8080/"
        },
        "outputId": "f082e15c-843d-4827-fb32-9deb33353fd9"
      },
      "execution_count": 30,
      "outputs": [
        {
          "output_type": "stream",
          "name": "stdout",
          "text": [
            "[(0.15500999987125397, 67.68751043936066), (0.00534699996933341, -2.410101778054834), (210.8800048828125, 199.50595811878182), (279.6300048828125, 273.9177837185613), (0.00024808000307530165, -0.843963237734852), (10.941300392150879, 9.427062097140018), (11768.650390625, 11832.516371872), (1.2325999736785889, 0.857403377555753), (250.7100067138672, 249.89620919486165), (176.73150634765625, 181.8180435782617)]\n"
          ]
        }
      ]
    }
  ],
  "metadata": {
    "colab": {
      "collapsed_sections": [],
      "name": "CS431FinalProject March 30 Updates.ipynb",
      "provenance": []
    },
    "kernelspec": {
      "display_name": "Python 3",
      "name": "python3"
    },
    "language_info": {
      "name": "python"
    }
  },
  "nbformat": 4,
  "nbformat_minor": 0
}
